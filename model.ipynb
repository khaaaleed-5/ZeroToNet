{
 "cells": [
  {
   "cell_type": "code",
   "execution_count": 2,
   "metadata": {},
   "outputs": [],
   "source": [
    "import numpy as np\n",
    "from NN import Dense,NeuralNetwork"
   ]
  },
  {
   "cell_type": "code",
   "execution_count": 20,
   "metadata": {},
   "outputs": [],
   "source": [
    "X = np.array([[1, 2, 3, 2.5],\n",
    "              [2.0, 5.0, -1.0, 2.0],\n",
    "              [-1.5, 2.7, 3.3, -0.8]])  # 3*4 matrix\n",
    "\n",
    "X_test = np.array([[1, 4, 1, 6.5],\n",
    "              [1.0, 6.0, -1.0, 8.0],\n",
    "              [-0.5, 6.7, 3.3, -0.8]]) \n",
    "\n",
    "#used with binary cross entropy\n",
    "y_train = np.array([[0, 1, 1]]).T\n",
    "\n",
    "y_test = np.array([0,1,1])"
   ]
  },
  {
   "cell_type": "code",
   "execution_count": 4,
   "metadata": {},
   "outputs": [
    {
     "name": "stdout",
     "output_type": "stream",
     "text": [
      "X_test shape: (100, 4)\n",
      "y_test shape: (100,)\n"
     ]
    }
   ],
   "source": [
    "np.random.seed(0)\n",
    "num_samples = 100\n",
    "num_features = 4\n",
    "\n",
    "X_test = np.random.randn(num_samples, num_features)\n",
    "y_test = np.random.randint(2, size=num_samples)  # Binary classification labels (0 or 1)\n",
    "\n",
    "# Display the shapes of the test data\n",
    "print(\"X_test shape:\", X_test.shape)\n",
    "print(\"y_test shape:\", y_test.shape)"
   ]
  },
  {
   "cell_type": "code",
   "execution_count": 15,
   "metadata": {},
   "outputs": [],
   "source": [
    "#model architecture\n",
    "input_shape = X.shape[1]\n",
    "output_class = 1\n",
    "\n",
    "model = NeuralNetwork()\n",
    "model.add(Dense(input_shape=input_shape,neurons=100,activation='relu'))\n",
    "model.add(Dense(input_shape=100,neurons=50,activation='relu'))\n",
    "model.add(Dense(input_shape=50,neurons=50,activation='relu'))\n",
    "model.add(Dense(input_shape=50,neurons=25,activation='relu'))\n",
    "model.add(Dense(input_shape=25,neurons=5,activation='relu'))\n",
    "model.add(Dense(input_shape=5,neurons=output_class,activation='sigmoid'))\n"
   ]
  },
  {
   "cell_type": "code",
   "execution_count": 16,
   "metadata": {},
   "outputs": [
    {
     "name": "stdout",
     "output_type": "stream",
     "text": [
      "Epoch 0: Loss = 18.807046417508953, Accuracy = 0.3333333333333333\n",
      "Epoch 1: Loss = 18.80704622748096, Accuracy = 0.3333333333333333\n",
      "Epoch 2: Loss = 18.807046037452878, Accuracy = 0.3333333333333333\n",
      "Epoch 3: Loss = 18.807045847424725, Accuracy = 0.3333333333333333\n",
      "Epoch 4: Loss = 18.80704565739648, Accuracy = 0.3333333333333333\n",
      "Epoch 5: Loss = 18.80704546736818, Accuracy = 0.3333333333333333\n",
      "Epoch 6: Loss = 18.807045277339768, Accuracy = 0.3333333333333333\n",
      "Epoch 7: Loss = 18.807045087311277, Accuracy = 0.3333333333333333\n",
      "Epoch 8: Loss = 18.807044897282694, Accuracy = 0.3333333333333333\n",
      "Epoch 9: Loss = 18.807044707254065, Accuracy = 0.3333333333333333\n"
     ]
    }
   ],
   "source": [
    "model.fit(X,y_train,\n",
    "          epochs=10,\n",
    "          Loss='Binary_cross_entropy')\n"
   ]
  },
  {
   "cell_type": "code",
   "execution_count": 21,
   "metadata": {},
   "outputs": [
    {
     "name": "stdout",
     "output_type": "stream",
     "text": [
      "[0 0 0]\n",
      "[0 1 1]\n"
     ]
    }
   ],
   "source": [
    "y_pred = model.predict(X_test)\n",
    "y_pred = np.argmax(y_pred,axis=1)\n",
    "print(y_pred)\n",
    "print(y_test)\n"
   ]
  },
  {
   "cell_type": "code",
   "execution_count": null,
   "metadata": {},
   "outputs": [],
   "source": []
  }
 ],
 "metadata": {
  "kernelspec": {
   "display_name": "base",
   "language": "python",
   "name": "python3"
  },
  "language_info": {
   "codemirror_mode": {
    "name": "ipython",
    "version": 3
   },
   "file_extension": ".py",
   "mimetype": "text/x-python",
   "name": "python",
   "nbconvert_exporter": "python",
   "pygments_lexer": "ipython3",
   "version": "3.11.5"
  }
 },
 "nbformat": 4,
 "nbformat_minor": 2
}
